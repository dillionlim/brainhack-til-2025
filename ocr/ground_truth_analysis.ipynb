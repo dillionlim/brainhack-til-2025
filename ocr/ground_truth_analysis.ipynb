{
 "cells": [
  {
   "cell_type": "markdown",
   "id": "3077bf20-86fb-4526-a56a-da4fe4e2e5a0",
   "metadata": {},
   "source": [
    "## Analysing Ground Truths \n",
    "\n",
    "(Hey would you like some cheese?)"
   ]
  },
  {
   "cell_type": "code",
   "execution_count": null,
   "id": "50da87bb-dea4-475d-96fc-20bac726f50d",
   "metadata": {
    "tags": []
   },
   "outputs": [
    {
     "name": "stderr",
     "output_type": "stream",
     "text": [
      "100%|██████████| 13501/13501 [04:21<00:00, 51.73it/s]\n"
     ]
    }
   ],
   "source": [
    "import os\n",
    "from tqdm import tqdm\n",
    "\n",
    "DATA_DIR = os.path.join(os.path.expanduser('~'), 'advanced/ocr')\n",
    "\n",
    "ground_truths = []\n",
    "\n",
    "for file in tqdm(os.listdir(DATA_DIR)):\n",
    "    if file.endswith('.txt'):\n",
    "        no = int(file.split('_')[1].split('.')[0])\n",
    "        with open(os.path.join(DATA_DIR, file), 'r') as f:\n",
    "            data = f.read()\n",
    "            ground_truths.append(data)"
   ]
  },
  {
   "cell_type": "code",
   "execution_count": 3,
   "id": "c5bc8031-6d49-4ffa-aaa7-8efdcf26a20c",
   "metadata": {
    "tags": []
   },
   "outputs": [],
   "source": [
    "counter = {}\n",
    "for t in ground_truths:\n",
    "    counter[t] = counter.get(t, 0) + 1"
   ]
  },
  {
   "cell_type": "code",
   "execution_count": 4,
   "id": "3060d6d0-77f6-4a0b-a77f-f60f7012a1bb",
   "metadata": {
    "tags": []
   },
   "outputs": [
    {
     "data": {
      "text/plain": [
       "dict_values([1092, 1149, 899, 710, 650])"
      ]
     },
     "execution_count": 4,
     "metadata": {},
     "output_type": "execute_result"
    }
   ],
   "source": [
    "counter.values()"
   ]
  },
  {
   "cell_type": "code",
   "execution_count": null,
   "id": "6a4fb61e-a16b-48e5-9553-666213bc9d38",
   "metadata": {
    "tags": []
   },
   "outputs": [],
   "source": [
    "ground_truths_set = set(ground_truths)\n",
    "collated = list(ground_truths_set)\n",
    "\n",
    "for i, text in enumerate(collated):\n",
    "    \n",
    "    with open(f\"pred_{i}.txt\", 'w') as f:\n",
    "        f.write(text)"
   ]
  },
  {
   "cell_type": "code",
   "execution_count": 31,
   "id": "d688fb0b-4a86-45e4-aafc-3bb1247f7efd",
   "metadata": {
    "tags": []
   },
   "outputs": [
    {
     "data": {
      "text/plain": [
       "True"
      ]
     },
     "execution_count": 31,
     "metadata": {},
     "output_type": "execute_result"
    }
   ],
   "source": [
    "with open('pred.txt', 'r') as f:\n",
    "    t = f.read()\n",
    "    \n",
    "t == collated[1]"
   ]
  }
 ],
 "metadata": {
  "environment": {
   "kernel": "conda-base-py",
   "name": "workbench-notebooks.m129",
   "type": "gcloud",
   "uri": "us-docker.pkg.dev/deeplearning-platform-release/gcr.io/workbench-notebooks:m129"
  },
  "kernelspec": {
   "display_name": "Python 3 (ipykernel)",
   "language": "python",
   "name": "conda-base-py"
  },
  "language_info": {
   "codemirror_mode": {
    "name": "ipython",
    "version": 3
   },
   "file_extension": ".py",
   "mimetype": "text/x-python",
   "name": "python",
   "nbconvert_exporter": "python",
   "pygments_lexer": "ipython3",
   "version": "3.10.16"
  }
 },
 "nbformat": 4,
 "nbformat_minor": 5
}
