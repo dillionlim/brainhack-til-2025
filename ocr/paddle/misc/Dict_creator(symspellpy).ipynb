{
 "cells": [
  {
   "cell_type": "code",
   "execution_count": 8,
   "id": "1793e303-7fb4-4cc2-968b-74c61c56a53a",
   "metadata": {
    "tags": []
   },
   "outputs": [],
   "source": [
    "import os\n",
    "\n",
    "gt = os.path.join('.', 'srcs', 'src-cheese')\n",
    "\n",
    "texts = []\n",
    "for i in range(5):\n",
    "    with open(os.path.join(gt, f\"pred_{i}.txt\"), 'r') as f:\n",
    "        texts.append(f.read())"
   ]
  },
  {
   "cell_type": "code",
   "execution_count": 9,
   "id": "71238dd9-dfcf-48ee-9262-43ff54a14d99",
   "metadata": {
    "tags": []
   },
   "outputs": [],
   "source": [
    "import re\n",
    "from collections import Counter\n",
    "\n",
    "def tokenize(text):\n",
    "    return re.findall(r\"\\b\\w+\\b\", text.lower())\n",
    "\n",
    "def build_dictionaries_from_texts(texts):\n",
    "    unigram_counts = Counter()\n",
    "    bigram_counts = Counter()\n",
    "    \n",
    "    for text in texts:\n",
    "        tokens = tokenize(text)\n",
    "        unigram_counts.update(tokens)\n",
    "        bigram_counts.update([\" \".join(pair) for pair in zip(tokens, tokens[1:])])\n",
    "    \n",
    "    return unigram_counts, bigram_counts\n",
    "\n",
    "def write_dictionary_file(counter, filepath, separator=\"\\t\"):\n",
    "    with open(filepath, \"w\", encoding=\"utf-8\") as f:\n",
    "        for key, count in counter.items():\n",
    "            f.write(f\"{key}{separator}{count}\\n\")\n",
    "\n",
    "\n",
    "unigrams, bigrams = build_dictionaries_from_texts(texts)\n",
    "\n",
    "write_dictionary_file(unigrams, \"./unigram_dict.txt\")\n",
    "write_dictionary_file(bigrams, \"./bigram_dict.txt\")"
   ]
  }
 ],
 "metadata": {
  "environment": {
   "kernel": "conda-env-.venv-py",
   "name": "workbench-notebooks.m129",
   "type": "gcloud",
   "uri": "us-docker.pkg.dev/deeplearning-platform-release/gcr.io/workbench-notebooks:m129"
  },
  "kernelspec": {
   "display_name": "Python 3 (ipykernel)",
   "language": "python",
   "name": "conda-env-.venv-py"
  },
  "language_info": {
   "codemirror_mode": {
    "name": "ipython",
    "version": 3
   },
   "file_extension": ".py",
   "mimetype": "text/x-python",
   "name": "python",
   "nbconvert_exporter": "python",
   "pygments_lexer": "ipython3",
   "version": "3.9.22"
  }
 },
 "nbformat": 4,
 "nbformat_minor": 5
}
