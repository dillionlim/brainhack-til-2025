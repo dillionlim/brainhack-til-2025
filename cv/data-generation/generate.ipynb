{
 "cells": [
  {
   "cell_type": "markdown",
   "id": "819495e3",
   "metadata": {},
   "source": [
    "#### Download Images from Bing Image Downloader"
   ]
  },
  {
   "cell_type": "code",
   "execution_count": 2,
   "id": "737db43b",
   "metadata": {},
   "outputs": [],
   "source": [
    "from bing_image_downloader import downloader"
   ]
  },
  {
   "cell_type": "code",
   "execution_count": null,
   "id": "10ccbc28",
   "metadata": {},
   "outputs": [],
   "source": [
    "# Download images of objects\n",
    "\n",
    "categories = [\n",
    "    \"cargo aircraft\", \"commercial aircraft\", \"drone\", \"fighter jet\", \"fighter plane\", \"helicopter\", \n",
    "    \"light aircraft\", \"missile\", \"truck\", \"car\", \"tank\", \"bus\", \"van\", \n",
    "    \"cargo ship\", \"yacht\", \n",
    "    \"cruise ship\",\n",
    "    \"warship\", \"sailboat\"\n",
    "]\n",
    "\n",
    "for category in categories:\n",
    "    downloader.download(category, limit=30, output_dir='images', adult_filter_off=True, force_replace=False, timeout=60)"
   ]
  },
  {
   "cell_type": "code",
   "execution_count": null,
   "id": "12fd2697",
   "metadata": {},
   "outputs": [],
   "source": [
    "# Download images of backgrounds\n",
    "\n",
    "downloader.download(\"real-life background (landscape)\", limit=150, output_dir='./', adult_filter_off=True)"
   ]
  },
  {
   "cell_type": "markdown",
   "id": "573dca74",
   "metadata": {},
   "source": [
    "##### Note: Manual intervention may be needed here to remove bad images"
   ]
  },
  {
   "cell_type": "markdown",
   "id": "b79ef176",
   "metadata": {},
   "source": [
    "### Preparing Dataset"
   ]
  },
  {
   "cell_type": "code",
   "execution_count": null,
   "id": "f3ac2bab",
   "metadata": {},
   "outputs": [],
   "source": [
    "import albumentations as A\n",
    "import json\n",
    "import math\n",
    "import numpy as np\n",
    "import os\n",
    "import random\n",
    "\n",
    "from io import BytesIO\n",
    "from PIL import Image, ImageDraw\n",
    "from rembg import remove\n",
    "from tqdm import tqdm"
   ]
  },
  {
   "cell_type": "markdown",
   "id": "d4c7476f",
   "metadata": {},
   "source": [
    "#### Removing backgrounds from objects"
   ]
  },
  {
   "cell_type": "code",
   "execution_count": null,
   "id": "208b33f6",
   "metadata": {},
   "outputs": [],
   "source": [
    "input_folder = 'images'\n",
    "output_folder = 'cropped'\n",
    "\n",
    "os.makedirs(output_folder, exist_ok=True)\n",
    "\n",
    "def crop_to_foreground(img: Image.Image) -> Image.Image:\n",
    "    # Get bounding box of non-transparent area\n",
    "    bbox = img.getbbox()\n",
    "    if bbox:\n",
    "        return img.crop(bbox)\n",
    "    return img  # return as-is if bbox is None\n",
    "\n",
    "for cat in os.listdir(input_folder):\n",
    "    if cat == '.ipynb_checkpoints': \n",
    "        continue\n",
    "\n",
    "    input_dir = os.path.join(input_folder, cat)\n",
    "    output_dir = os.path.join(output_folder, cat)\n",
    "\n",
    "    os.makedirs(output_dir, exist_ok=True)\n",
    "\n",
    "    for i, file in enumerate(os.listdir(input_dir)):\n",
    "        input_path = os.path.join(input_dir, file)\n",
    "        output_path = os.path.join(output_dir, f\"{cat}_{i+1}.png\")\n",
    "\n",
    "        with open(input_path, 'rb') as inp:\n",
    "            result = remove(inp.read())\n",
    "            img = Image.open(BytesIO(result)).convert(\"RGBA\")\n",
    "            cropped_img = crop_to_foreground(img)\n",
    "            cropped_img.save(output_path)"
   ]
  },
  {
   "cell_type": "code",
   "execution_count": null,
   "id": "78e9a554",
   "metadata": {},
   "outputs": [],
   "source": [
    "for cat in os.listdir('cropped'):\n",
    "    relevant_dir = relevant = os.path.join('cropped', cat) \n",
    "    for i, x in enumerate(os.listdir(relevant_dir)):\n",
    "        os.rename(os.path.join(relevant_dir, x), os.path.join(relevant_dir, f\"{i+1}.png\"))"
   ]
  },
  {
   "cell_type": "code",
   "execution_count": 52,
   "id": "19fdf8e4",
   "metadata": {},
   "outputs": [],
   "source": [
    "for i, x in enumerate(os.listdir('backgrounds')):\n",
    "    if x == '.ipynb_checkpoints': \n",
    "        continue\n",
    "    \n",
    "    os.rename(os.path.join('backgrounds', x), os.path.join('backgrounds', f\"bg_{i+1}.jpg\"))"
   ]
  },
  {
   "cell_type": "markdown",
   "id": "c4aa7383",
   "metadata": {},
   "source": [
    "#### Resizing background images"
   ]
  },
  {
   "cell_type": "code",
   "execution_count": 53,
   "id": "698e8af6",
   "metadata": {},
   "outputs": [],
   "source": [
    "def resize_and_crop(img, target_width=1920, target_height=1080):\n",
    "    # Step 1: Resize so both dimensions are large enough\n",
    "    original_width, original_height = img.size\n",
    "    aspect_ratio = target_width / target_height\n",
    "\n",
    "    if original_width / original_height > aspect_ratio:\n",
    "        # Resize based on height\n",
    "        new_height = target_height\n",
    "        new_width = int(target_height * (original_width / original_height))\n",
    "    else:\n",
    "        # Resize based on width\n",
    "        new_width = target_width\n",
    "        new_height = int(target_width / (original_width / original_height))\n",
    "\n",
    "    img = img.resize((new_width, new_height), Image.LANCZOS)\n",
    "\n",
    "    # Step 2: Center crop to 1920x1080\n",
    "    left = (new_width - target_width) // 2\n",
    "    top = (new_height - target_height) // 2\n",
    "    right = left + target_width\n",
    "    bottom = top + target_height\n",
    "\n",
    "    return img.crop((left, top, right, bottom))\n",
    "\n",
    "\n",
    "background_folder = 'backgrounds'\n",
    "resized_folder = 'backgrounds_resized'\n",
    "os.makedirs(resized_folder, exist_ok=True)\n",
    "\n",
    "for file in os.listdir(background_folder):\n",
    "    input_path = os.path.join(background_folder, file)\n",
    "    output_path = os.path.join(resized_folder, file)\n",
    "\n",
    "    if not file.lower().endswith(('.jpg', '.jpeg', '.png')):\n",
    "        continue\n",
    "\n",
    "    try:\n",
    "        img = Image.open(input_path).convert(\"RGB\")\n",
    "        resized_cropped_img = resize_and_crop(img)\n",
    "        resized_cropped_img.save(output_path)\n",
    "    except Exception as e:\n",
    "        print(f\"Failed to process {file}: {e}\")"
   ]
  },
  {
   "cell_type": "markdown",
   "id": "387303bc",
   "metadata": {},
   "source": [
    "#### Pasting images of objects onto background (with augmentation)"
   ]
  },
  {
   "cell_type": "code",
   "execution_count": 56,
   "id": "512a1171",
   "metadata": {},
   "outputs": [
    {
     "name": "stderr",
     "output_type": "stream",
     "text": [
      "100%|██████████| 5000/5000 [54:10<00:00,  1.54it/s]  \n"
     ]
    }
   ],
   "source": [
    "MIN_AREA_AIR = 2000\n",
    "MAX_AREA_AIR = 20000\n",
    "MIN_AREA = 14000\n",
    "MAX_AREA = 30000\n",
    "\n",
    "NUM_DATA = 5000\n",
    "PLOT_BBOX = False\n",
    "\n",
    "cropped_dir = 'cropped'\n",
    "backgrounds = [Image.open(f\"backgrounds_resized/{f}\").convert('RGBA') for f in os.listdir('backgrounds_resized')]\n",
    "output_dir = os.path.join('generated', 'images')\n",
    "\n",
    "os.makedirs(output_dir, exist_ok=True)\n",
    "\n",
    "annotations = {\"images\": [], \"annotations\": [], \"categories\": []}\n",
    "\n",
    "categories = [\"cargo aircraft\", \"commercial aircraft\", \"drone\", \"fighter jet\", \"fighter plane\", \"helicopter\", \n",
    "    \"light aircraft\", \"missile\", \"truck\", \"car\", \"tank\", \"bus\", \"van\", \n",
    "    \"cargo ship\", \"yacht\", \"cruise ship\", \"warship\", \"sailboat\"]\n",
    "categories_idx = [i for i in range(18)]\n",
    "probs = [0.08] * 7 + [0.04] * 11\n",
    "imgs_fp = [[os.path.join('cropped', cat, img_fp) for img_fp in os.listdir(os.path.join('cropped', cat)) if img_fp.endswith('.png')] for cat in categories]\n",
    "\n",
    "annotations = {\"images\": [], \"annotations\": [], \"categories\": [{\"id\": cat_id, \"name\": cat} for cat_id, cat in zip(categories_idx, categories)]}\n",
    "# print(annotations)\n",
    "\n",
    "albu_transforms = A.Compose([\n",
    "    A.GaussNoise(var_limit=2500, p=0.5),\n",
    "    A.ISONoise(p=0.5),\n",
    "    A.Blur(p=0.15),\n",
    "    A.MedianBlur(p=0.15),\n",
    "    A.ToGray(p=0.1),\n",
    "    A.CLAHE(p=0.15),\n",
    "    A.RandomBrightnessContrast(p=0.6),\n",
    "    A.RandomGamma(p=0.2),\n",
    "    A.ImageCompression(quality_lower=75, p=0.5),\n",
    "])\n",
    "\n",
    "for i in tqdm(range(NUM_DATA)):\n",
    "    bg = random.choice(backgrounds).copy()\n",
    "    num_obj = random.randint(3, 6)\n",
    "\n",
    "    obj_cat_idx = random.choices(categories_idx, weights=probs, k=num_obj)\n",
    "\n",
    "    generated_fn = f\"g_{i}.jpg\"\n",
    "    annotations[\"images\"].append({\n",
    "        \"id\": i,\n",
    "        \"file_name\": generated_fn,\n",
    "        \"width\": bg.width,\n",
    "        \"height\": bg.height\n",
    "    })\n",
    "    \n",
    "    if PLOT_BBOX:\n",
    "        draw = ImageDraw.Draw(bg)\n",
    "\n",
    "    for cat_idx in obj_cat_idx:\n",
    "        img_fp = random.choice(imgs_fp[cat_idx])\n",
    "        img = Image.open(img_fp).convert('RGBA')\n",
    "\n",
    "        img_area = img.width * img.height\n",
    "\n",
    "        if cat_idx < 8: \n",
    "            scale_min = math.sqrt(MIN_AREA_AIR / img_area)\n",
    "            scale_max = math.sqrt(MAX_AREA_AIR / img_area)\n",
    "        else: \n",
    "            scale_min = math.sqrt(MIN_AREA / img_area)\n",
    "            scale_max = math.sqrt(MAX_AREA / img_area)\n",
    "\n",
    "        scale = random.uniform(scale_min, scale_max) \n",
    "\n",
    "        img = img.resize((int(img.width * scale), int(img.height * scale)), Image.LANCZOS)\n",
    "\n",
    "        rotation_angle = random.randint(-30, 30)\n",
    "\n",
    "        img = img.rotate(rotation_angle, expand=True)\n",
    "        alpha = img.split()[-1]\n",
    "        img = img.crop(alpha.getbbox())\n",
    "\n",
    "        max_x = bg.width - img.width\n",
    "        max_y = bg.height - img.height\n",
    "\n",
    "        x = random.randint(0, max_x)\n",
    "        y = random.randint(0, max_y)\n",
    "\n",
    "        bg.paste(img, (x, y), img)\n",
    "\n",
    "        if PLOT_BBOX:\n",
    "            bbox = [x, y, x + img.width, y + img.height]  # [left, top, right, bottom]\n",
    "            draw.rectangle(bbox, outline='red', width=3)\n",
    "\n",
    "        annotations[\"annotations\"].append({\n",
    "            \"id\": len(annotations[\"annotations\"]),\n",
    "            \"image_id\": i,\n",
    "            \"category_id\": cat_idx,\n",
    "            \"bbox\": [x, y, img.width, img.height],\n",
    "            \"area\": img.width * img.height,\n",
    "            \"iscrowd\": 0\n",
    "        })\n",
    "    \n",
    "    generated_img_arr = np.array(bg.convert('RGB'))\n",
    "    aug_img_arr = albu_transforms(image=generated_img_arr)\n",
    "    aug_img = Image.fromarray(aug_img_arr['image'])\n",
    "    aug_img.save(os.path.join(output_dir, generated_fn))\n",
    "\n",
    "with open(os.path.join(\"generated\", \"annotations.json\"), \"w\") as f:\n",
    "    json.dump(annotations, f, indent=4)"
   ]
  }
 ],
 "metadata": {
  "kernelspec": {
   "display_name": "Python 3",
   "language": "python",
   "name": "python3"
  },
  "language_info": {
   "codemirror_mode": {
    "name": "ipython",
    "version": 3
   },
   "file_extension": ".py",
   "mimetype": "text/x-python",
   "name": "python",
   "nbconvert_exporter": "python",
   "pygments_lexer": "ipython3",
   "version": "3.10.11"
  }
 },
 "nbformat": 4,
 "nbformat_minor": 5
}
